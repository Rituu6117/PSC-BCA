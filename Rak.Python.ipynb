{
 "cells": [
  {
   "cell_type": "code",
   "execution_count": 10,
   "id": "1fc94f5c-976d-4949-9e0f-58684b77434c",
   "metadata": {},
   "outputs": [],
   "source": [
    "name = \"FardEEn ahMED\""
   ]
  },
  {
   "cell_type": "code",
   "execution_count": null,
   "id": "f11841e9-5a62-459a-a1b1-d23e9899c06b",
   "metadata": {},
   "outputs": [],
   "source": [
    "# convert capital to small and small to capital"
   ]
  },
  {
   "cell_type": "code",
   "execution_count": 11,
   "id": "56414988-11c0-4d29-b042-9b8fa81d775f",
   "metadata": {},
   "outputs": [
    {
     "data": {
      "text/plain": [
       "'FardEEn ahMED'"
      ]
     },
     "execution_count": 11,
     "metadata": {},
     "output_type": "execute_result"
    }
   ],
   "source": [
    "name"
   ]
  },
  {
   "cell_type": "code",
   "execution_count": 12,
   "id": "3d3a1058-86be-4b2c-bc34-d846f115eab0",
   "metadata": {},
   "outputs": [
    {
     "data": {
      "text/plain": [
       "'fARDeeN AHmed'"
      ]
     },
     "execution_count": 12,
     "metadata": {},
     "output_type": "execute_result"
    }
   ],
   "source": [
    "name.swapcase()"
   ]
  },
  {
   "cell_type": "code",
   "execution_count": 17,
   "id": "04ae6367-5990-41ef-b9c5-185bcbeb7801",
   "metadata": {},
   "outputs": [],
   "source": [
    "name = name.swapcase()"
   ]
  },
  {
   "cell_type": "code",
   "execution_count": 18,
   "id": "77e273dc-0845-4f41-b201-e125821fda18",
   "metadata": {},
   "outputs": [
    {
     "data": {
      "text/plain": [
       "'fARDeeN AHmed'"
      ]
     },
     "execution_count": 18,
     "metadata": {},
     "output_type": "execute_result"
    }
   ],
   "source": [
    "name"
   ]
  },
  {
   "cell_type": "code",
   "execution_count": 20,
   "id": "c60ce85c-6455-412c-b693-b15542fac7c1",
   "metadata": {},
   "outputs": [],
   "source": [
    "name = \"RakSHanDA KARanjE\" "
   ]
  },
  {
   "cell_type": "code",
   "execution_count": 21,
   "id": "46894067-6e37-4fe0-89c2-6e70f36599b6",
   "metadata": {},
   "outputs": [
    {
     "data": {
      "text/plain": [
       "'RakSHanDA KARanjE'"
      ]
     },
     "execution_count": 21,
     "metadata": {},
     "output_type": "execute_result"
    }
   ],
   "source": [
    "name"
   ]
  },
  {
   "cell_type": "code",
   "execution_count": null,
   "id": "ca9a053b-096a-4e37-b4cc-c85c55452af2",
   "metadata": {},
   "outputs": [],
   "source": [
    "#task3"
   ]
  },
  {
   "cell_type": "code",
   "execution_count": null,
   "id": "a8dc24af-d09f-4202-b0f4-f9882ec2e922",
   "metadata": {},
   "outputs": [],
   "source": [
    "# 'R@a@k@s@h@a@n@d@a @K@ar@n@j@e'"
   ]
  },
  {
   "cell_type": "code",
   "execution_count": 30,
   "id": "0bab5805-194f-45d4-a523-4cf6c9a635c1",
   "metadata": {},
   "outputs": [
    {
     "data": {
      "text/plain": [
       "'R@a@k@S@H@a@n@D@A@ @K@A@R@a@n@j@E'"
      ]
     },
     "execution_count": 30,
     "metadata": {},
     "output_type": "execute_result"
    }
   ],
   "source": [
    "'@'.join(name)"
   ]
  },
  {
   "cell_type": "code",
   "execution_count": 40,
   "id": "1921f3aa-f382-4c25-9ace-9163ccd09592",
   "metadata": {},
   "outputs": [],
   "source": [
    "d = 45354523"
   ]
  },
  {
   "cell_type": "code",
   "execution_count": 41,
   "id": "00446666-7512-43b6-a057-68d48eb05084",
   "metadata": {},
   "outputs": [
    {
     "data": {
      "text/plain": [
       "True"
      ]
     },
     "execution_count": 41,
     "metadata": {},
     "output_type": "execute_result"
    }
   ],
   "source": [
    "d.is_integer()"
   ]
  },
  {
   "cell_type": "code",
   "execution_count": 86,
   "id": "0c577fac-30ef-4ea1-9c65-98e933ff494b",
   "metadata": {},
   "outputs": [],
   "source": [
    "name1 = \"TanushreeJadhav\""
   ]
  },
  {
   "cell_type": "code",
   "execution_count": 87,
   "id": "4c95bdd1-1e38-4dc5-bc68-730bb30241bb",
   "metadata": {},
   "outputs": [
    {
     "data": {
      "text/plain": [
       "True"
      ]
     },
     "execution_count": 87,
     "metadata": {},
     "output_type": "execute_result"
    }
   ],
   "source": [
    "name1.isalpha()"
   ]
  },
  {
   "cell_type": "code",
   "execution_count": 77,
   "id": "29a4cdec-e486-4475-8eb3-15c9ee6ac850",
   "metadata": {},
   "outputs": [
    {
     "data": {
      "text/plain": [
       "True"
      ]
     },
     "execution_count": 77,
     "metadata": {},
     "output_type": "execute_result"
    }
   ],
   "source": [
    "name1.isalnum()"
   ]
  },
  {
   "cell_type": "code",
   "execution_count": 78,
   "id": "90a94a3c-e7e1-4e3b-961f-c76323d7bf52",
   "metadata": {},
   "outputs": [
    {
     "data": {
      "text/plain": [
       "True"
      ]
     },
     "execution_count": 78,
     "metadata": {},
     "output_type": "execute_result"
    }
   ],
   "source": [
    "name1.startswith('T')"
   ]
  },
  {
   "cell_type": "code",
   "execution_count": 72,
   "id": "024388c1-22a4-4fb4-ba67-9152fda16e6e",
   "metadata": {},
   "outputs": [
    {
     "data": {
      "text/plain": [
       "'TanushreeJadhav'"
      ]
     },
     "execution_count": 72,
     "metadata": {},
     "output_type": "execute_result"
    }
   ],
   "source": [
    "name1"
   ]
  },
  {
   "cell_type": "code",
   "execution_count": 82,
   "id": "403cd100-b395-470f-bd4e-6f838f9d80e2",
   "metadata": {},
   "outputs": [
    {
     "data": {
      "text/plain": [
       "<reversed at 0x7b32eed26860>"
      ]
     },
     "execution_count": 82,
     "metadata": {},
     "output_type": "execute_result"
    }
   ],
   "source": [
    "reversed(name1)"
   ]
  },
  {
   "cell_type": "code",
   "execution_count": 83,
   "id": "eed6976b-f6d0-4628-8242-dc29c430a2c7",
   "metadata": {},
   "outputs": [
    {
     "data": {
      "text/plain": [
       "'vahdaJ eerhsunaT'"
      ]
     },
     "execution_count": 83,
     "metadata": {},
     "output_type": "execute_result"
    }
   ],
   "source": [
    "\"\".join(reversed(name1))"
   ]
  },
  {
   "cell_type": "code",
   "execution_count": null,
   "id": "f6e0cfa5-1528-453f-a60d-eb9839d03358",
   "metadata": {},
   "outputs": [],
   "source": []
  },
  {
   "cell_type": "code",
   "execution_count": null,
   "id": "9426005c-6a4c-4623-9ce3-27f84c2a88cc",
   "metadata": {},
   "outputs": [],
   "source": []
  },
  {
   "cell_type": "code",
   "execution_count": null,
   "id": "34798da7-b2aa-47e7-94ee-5d0ef0f43985",
   "metadata": {},
   "outputs": [],
   "source": []
  },
  {
   "cell_type": "code",
   "execution_count": null,
   "id": "35403fbd-d76e-42b8-8b2d-1c57afd46754",
   "metadata": {},
   "outputs": [],
   "source": []
  },
  {
   "cell_type": "code",
   "execution_count": null,
   "id": "4a84a624-ee06-43b2-b2b1-4a15b8e5b86f",
   "metadata": {},
   "outputs": [],
   "source": []
  }
 ],
 "metadata": {
  "kernelspec": {
   "display_name": "Python 3 (ipykernel)",
   "language": "python",
   "name": "python3"
  },
  "language_info": {
   "codemirror_mode": {
    "name": "ipython",
    "version": 3
   },
   "file_extension": ".py",
   "mimetype": "text/x-python",
   "name": "python",
   "nbconvert_exporter": "python",
   "pygments_lexer": "ipython3",
   "version": "3.12.4"
  }
 },
 "nbformat": 4,
 "nbformat_minor": 5
}
